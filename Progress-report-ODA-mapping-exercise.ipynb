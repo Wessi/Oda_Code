{
 "cells": [
  {
   "cell_type": "code",
   "execution_count": 6,
   "metadata": {
    "ExecuteTime": {
     "end_time": "2023-12-12T04:32:19.843888100Z",
     "start_time": "2023-12-12T04:32:19.642891700Z"
    },
    "collapsed": true
   },
   "outputs": [],
   "source": [
    "import pandas as pd\n",
    "from difflib import SequenceMatcher\n",
    "\n",
    "# load excel files\n",
    "resxl = pd.ExcelFile('AMEResponse.xlsx')\n",
    "allxl = pd.ExcelFile('AMEAll.xlsx')"
   ]
  },
  {
   "cell_type": "code",
   "execution_count": 2,
   "metadata": {
    "ExecuteTime": {
     "end_time": "2023-12-11T21:13:16.110289Z",
     "start_time": "2023-12-11T21:13:15.611530600Z"
    },
    "collapsed": false
   },
   "outputs": [],
   "source": [
    "# "
   ]
  },
  {
   "cell_type": "code",
   "execution_count": 22,
   "metadata": {
    "ExecuteTime": {
     "end_time": "2023-12-06T22:40:48.382522200Z",
     "start_time": "2023-12-06T22:40:48.352523600Z"
    },
    "collapsed": false
   },
   "outputs": [
    {
     "data": {
      "text/plain": [
       "174"
      ]
     },
     "execution_count": 22,
     "metadata": {},
     "output_type": "execute_result"
    }
   ],
   "source": [
    "# count the total number of rows df shape\n",
    "# ressheet.shape[0]"
   ]
  },
  {
   "cell_type": "code",
   "execution_count": null,
   "metadata": {
    "collapsed": false
   },
   "outputs": [],
   "source": []
  },
  {
   "cell_type": "code",
   "execution_count": 23,
   "metadata": {
    "ExecuteTime": {
     "end_time": "2023-12-06T22:40:49.215590Z",
     "start_time": "2023-12-06T22:40:49.174590300Z"
    },
    "collapsed": false
   },
   "outputs": [
    {
     "data": {
      "text/plain": [
       "161"
      ]
     },
     "execution_count": 23,
     "metadata": {},
     "output_type": "execute_result"
    }
   ],
   "source": [
    "# len(ressheet.columns)"
   ]
  },
  {
   "cell_type": "code",
   "execution_count": null,
   "metadata": {
    "ExecuteTime": {
     "end_time": "2023-12-06T22:40:50.808129100Z",
     "start_time": "2023-12-06T22:40:50.781134300Z"
    },
    "collapsed": false
   },
   "outputs": [],
   "source": [
    "# print all column names one by one format as \"column_name\"\n",
    "# for col in ressheet.columns:\n",
    "#     print(f'\"{col}\"')"
   ]
  },
  {
   "cell_type": "code",
   "execution_count": null,
   "metadata": {
    "ExecuteTime": {
     "end_time": "2023-12-11T21:13:55.581004100Z",
     "start_time": "2023-12-11T21:13:55.415669100Z"
    },
    "collapsed": false
   },
   "outputs": [],
   "source": [
    "# get unique values of column 'Email Address'\n",
    "# ressheet['Email Address'].unique()"
   ]
  },
  {
   "cell_type": "code",
   "execution_count": null,
   "metadata": {
    "ExecuteTime": {
     "end_time": "2023-12-11T21:16:14.395208400Z",
     "start_time": "2023-12-11T21:16:14.294817100Z"
    },
    "collapsed": false
   },
   "outputs": [],
   "source": [
    "# ressheet['Email Address'].value_counts()"
   ]
  },
  {
   "cell_type": "code",
   "execution_count": null,
   "metadata": {
    "collapsed": false
   },
   "outputs": [],
   "source": [
    "# "
   ]
  },
  {
   "cell_type": "code",
   "execution_count": null,
   "metadata": {
    "ExecuteTime": {
     "end_time": "2023-12-06T22:40:57.409509500Z",
     "start_time": "2023-12-06T22:40:57.377514500Z"
    },
    "collapsed": false
   },
   "outputs": [],
   "source": [
    "# df['2. Please type the name of your organization'].unique()"
   ]
  },
  {
   "cell_type": "code",
   "execution_count": null,
   "metadata": {
    "ExecuteTime": {
     "end_time": "2023-12-06T22:40:58.894731600Z",
     "start_time": "2023-12-06T22:40:58.865744100Z"
    },
    "collapsed": false
   },
   "outputs": [],
   "source": [
    "# df['AMP- Project ID - not to be entered or modified'].unique()"
   ]
  },
  {
   "cell_type": "code",
   "execution_count": null,
   "metadata": {
    "ExecuteTime": {
     "end_time": "2023-12-06T22:41:35.987115600Z",
     "start_time": "2023-12-06T22:41:35.967121100Z"
    },
    "collapsed": false
   },
   "outputs": [],
   "source": [
    "# First, ensure that all NaN values are filled\n",
    "# df['AMP- Project ID - not to be entered or modified'] = df['AMP- Project ID - not to be entered or modified'].astype(str).fillna('')\n",
    "#\n",
    "# # Then, apply the filtering using a lambda function\n",
    "# filtered_df = df[df['AMP- Project ID - not to be entered or modified'].apply(lambda x: x.startswith('87') or x.startswith('new-') if isinstance(x, str) else False)] # if x is a string, check if it starts with '87' or 'new-proj' and return True or False"
   ]
  },
  {
   "cell_type": "code",
   "execution_count": null,
   "metadata": {
    "ExecuteTime": {
     "end_time": "2023-12-06T22:41:36.689120400Z",
     "start_time": "2023-12-06T22:41:36.656120500Z"
    },
    "collapsed": false
   },
   "outputs": [],
   "source": [
    "# filtered_df['AMP- Project ID - not to be entered or modified'].count() # value_counts(), unique()"
   ]
  },
  {
   "cell_type": "code",
   "execution_count": null,
   "metadata": {
    "ExecuteTime": {
     "end_time": "2023-12-06T22:41:42.910882700Z",
     "start_time": "2023-12-06T22:41:42.881850100Z"
    },
    "collapsed": false
   },
   "outputs": [],
   "source": [
    "# get all rows with a value starting with 87\n",
    "# df[df['AMP- Project ID - not to be entered or modified'].apply(lambda x: x.startswith('87') if isinstance(x, str) else False)]"
   ]
  },
  {
   "cell_type": "code",
   "execution_count": null,
   "metadata": {
    "ExecuteTime": {
     "end_time": "2023-12-06T22:42:37.575979700Z",
     "start_time": "2023-12-06T22:42:37.490986400Z"
    },
    "collapsed": false
   },
   "outputs": [],
   "source": [
    "# load excel file\n",
    "# xl = pd.ExcelFile('Excel sheet - Water _ Energy.xlsx')"
   ]
  },
  {
   "cell_type": "markdown",
   "metadata": {
    "collapsed": false
   },
   "source": [
    "# Load Excel file and get sheet names"
   ]
  },
  {
   "cell_type": "code",
   "execution_count": null,
   "metadata": {
    "ExecuteTime": {
     "end_time": "2023-12-10T18:50:12.550388800Z",
     "start_time": "2023-12-10T18:50:11.739390800Z"
    },
    "collapsed": false
   },
   "outputs": [],
   "source": [
    "import pandas as pd\n",
    "from difflib import SequenceMatzcher\n",
    "\n",
    "survey_resxl = pd.read_excel('ODA.xlsx', sheet_name='Form Responses 1')\n",
    "\n",
    "water_energy_sincxl = pd.read_excel('Excel sheet - Water _ Energy.xlsx', sheet_name='Existing projects approved sinc')"
   ]
  },
  {
   "cell_type": "code",
   "execution_count": null,
   "metadata": {
    "ExecuteTime": {
     "end_time": "2023-12-10T18:50:12.570389100Z",
     "start_time": "2023-12-10T18:50:12.545390600Z"
    },
    "collapsed": false
   },
   "outputs": [],
   "source": [
    "survey_res = survey_resxl.iloc[0:, 3].dropna()\n",
    "water_energy_sinc = water_energy_sincxl.iloc[7:, 2].dropna()"
   ]
  },
  {
   "cell_type": "code",
   "execution_count": null,
   "metadata": {
    "ExecuteTime": {
     "end_time": "2023-12-10T18:50:13.498389Z",
     "start_time": "2023-12-10T18:50:13.461390100Z"
    },
    "collapsed": false
   },
   "outputs": [],
   "source": [
    "def filtered_df(title1, title2):\n",
    "    matching_rows = []\n",
    "    for row in title1:\n",
    "        for row2 in title2:\n",
    "            seq = SequenceMatcher(None, row.split(), row2.split()) # try vice versa later\n",
    "            d = seq.ratio()\n",
    "            if d >= 0.6:\n",
    "                matching_rows.append(row)\n",
    "    return survey_resxl[survey_res.isin(matching_rows)]"
   ]
  },
  {
   "cell_type": "code",
   "execution_count": null,
   "metadata": {
    "ExecuteTime": {
     "end_time": "2023-12-10T18:50:16.663388Z",
     "start_time": "2023-12-10T18:50:14.627388900Z"
    },
    "collapsed": false
   },
   "outputs": [],
   "source": [
    "with pd.ExcelWriter('Excel sheet - Water _ Energy.xlsx', mode='a', engine='openpyxl', if_sheet_exists='replace') as writer:\n",
    "    filtered_df(survey_res, water_energy_sinc).to_excel(writer, sheet_name='since2017_responses')\n"
   ]
  },
  {
   "cell_type": "code",
   "execution_count": null,
   "metadata": {
    "collapsed": false
   },
   "outputs": [],
   "source": [
    "xl = pd.ExcelFile('Excel sheet - Water _ Energy.xlsx')\n",
    "xl.sheet_names"
   ]
  },
  {
   "cell_type": "code",
   "execution_count": null,
   "metadata": {
    "ExecuteTime": {
     "end_time": "2023-12-07T00:45:02.254751500Z",
     "start_time": "2023-12-07T00:45:02.207742600Z"
    },
    "collapsed": false
   },
   "outputs": [],
   "source": [
    "\n",
    "\n",
    "# get sheet by name: 'Data'\n",
    "df = xl.parse('new_responses')\n",
    "\n",
    "len(df.columns)"
   ]
  },
  {
   "cell_type": "code",
   "execution_count": null,
   "metadata": {
    "collapsed": false
   },
   "outputs": [],
   "source": [
    "#"
   ]
  },
  {
   "cell_type": "code",
   "execution_count": null,
   "metadata": {
    "collapsed": false
   },
   "outputs": [],
   "source": [
    "# get value of merged row 3 from column B to column Q\n",
    "column_names = df.iloc[3, 1:17]\n",
    "column_names"
   ]
  },
  {
   "cell_type": "code",
   "execution_count": null,
   "metadata": {
    "collapsed": false
   },
   "outputs": [],
   "source": []
  },
  {
   "cell_type": "code",
   "execution_count": null,
   "metadata": {
    "collapsed": false
   },
   "outputs": [],
   "source": [
    "from difflib import SequenceMatcher\n",
    "\n",
    "str1 = \"The Study on Groundwater resources Assesment \"\n",
    "str2 = \"on Groundwater resourc1es Assesment in Riftvalley Lake\"\n",
    "\n",
    "# check if at least 80% of the characters are the same\n",
    "seqcar = SequenceMatcher(None, str1, str2)\n",
    "dchar = seqcar.ratio()\n",
    "\n",
    "# check if at least 80% of the words are the same\n",
    "seqword = SequenceMatcher(None, str1.split(), str2.split())\n",
    "dword = seqword.ratio()"
   ]
  },
  {
   "cell_type": "markdown",
   "metadata": {
    "collapsed": false
   },
   "source": [
    "# new test"
   ]
  },
  {
   "cell_type": "code",
   "execution_count": null,
   "metadata": {
    "ExecuteTime": {
     "end_time": "2023-12-10T04:21:41.195125400Z",
     "start_time": "2023-12-10T04:21:40.107606700Z"
    },
    "collapsed": false
   },
   "outputs": [],
   "source": [
    "# load excel file and get sheet by names\n",
    "df1 = pd.read_excel('Book1.xlsx', sheet_name='Sheet1')\n",
    "df2 = pd.read_excel('Book1.xlsx', sheet_name='Sheet2')"
   ]
  },
  {
   "cell_type": "code",
   "execution_count": null,
   "metadata": {
    "ExecuteTime": {
     "end_time": "2023-12-10T04:22:44.666708400Z",
     "start_time": "2023-12-10T04:22:37.678667Z"
    },
    "collapsed": false
   },
   "outputs": [],
   "source": [
    "# Function to calculate the similarity between two strings\n",
    "def similar(a, b):\n",
    "    return SequenceMatcher(None, a, b).ratio()\n",
    "\n",
    "# Merging based on 'Project_Id' or 'Project_Title' with a 60% similarity threshold for titles\n",
    "def merge_rows(row, df2):\n",
    "    # First try to merge based on Project_Id\n",
    "    if pd.notna(row['Project_Id']):\n",
    "        matched_rows = df2[df2['Project_Id'] == row['Project_Id']]\n",
    "        if not matched_rows.empty:\n",
    "            return matched_rows.iloc[0]\n",
    "\n",
    "    # If Project_Id is not available or no match found, try to merge based on Project_Title\n",
    "    if pd.notna(row['Project_Title']):\n",
    "        # Checking for titles that are at least 60% similar\n",
    "        for _, df2_row in df2.iterrows():\n",
    "            if pd.notna(df2_row['Project_Title']) and similar(row['Project_Title'], df2_row['Project_Title']) >= 0.6:\n",
    "                return df2_row\n",
    "\n",
    "    # If no match found\n",
    "    return pd.Series()\n",
    "\n",
    "# Applying the merge function\n",
    "merged_data = df1.apply(lambda row: merge_rows(row, df2), axis=1)\n",
    "\n",
    "# Combining the data from df1 and the merged data from df2\n",
    "final_merged = pd.concat([df1.reset_index(drop=True), merged_data.reset_index(drop=True)], axis=1)\n",
    "\n",
    "# Displaying the first few rows of the final merged DataFrame\n",
    "final_merged.head()\n",
    "\n",
    "\n",
    "\n"
   ]
  },
  {
   "cell_type": "code",
   "execution_count": null,
   "metadata": {
    "ExecuteTime": {
     "end_time": "2023-12-10T04:30:03.773364Z",
     "start_time": "2023-12-10T04:30:02.950362600Z"
    },
    "collapsed": false
   },
   "outputs": [],
   "source": [
    "final_merged.to_excel(\"merged.xlsx\", index=False)"
   ]
  },
  {
   "cell_type": "markdown",
   "metadata": {
    "collapsed": false
   },
   "source": [
    "# hello\n",
    "\n"
   ]
  },
  {
   "cell_type": "code",
   "execution_count": null,
   "metadata": {},
   "outputs": [],
   "source": []
  }
 ],
 "metadata": {
  "kernelspec": {
   "display_name": "Python 3",
   "language": "python",
   "name": "python3"
  },
  "language_info": {
   "codemirror_mode": {
    "name": "ipython",
    "version": 2
   },
   "file_extension": ".py",
   "mimetype": "text/x-python",
   "name": "python",
   "nbconvert_exporter": "python",
   "pygments_lexer": "ipython2",
   "version": "3.10.0"
  }
 },
 "nbformat": 4,
 "nbformat_minor": 0
}
